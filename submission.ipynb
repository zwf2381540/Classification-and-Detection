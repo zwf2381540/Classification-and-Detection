{
 "cells": [
  {
   "cell_type": "code",
   "execution_count": null,
   "metadata": {},
   "outputs": [],
   "source": [
    "from keras.models import load_model\n",
    "import numpy as np\n",
    "import pandas as pd\n",
    "\n",
    "label_map = {   \"defect1\":0,\n",
    "                \"defect2\":1,\n",
    "                \"defect3\":2,\n",
    "                \"defect4\":3,\n",
    "                \"defect5\":4,\n",
    "                \"defect6\":5,\n",
    "                \"defect11\":6,\n",
    "                \"defect7\":7,\n",
    "                \"defect8\":8,\n",
    "                \"defect9\" :9,\n",
    "                \"defect10\":10,\n",
    "                \"norm\"  :11}\n",
    "df_test = pd.read_csv('guangdong_round1_submit_sample_20180916.csv')\n",
    "test=np.load(\"test.npy\")\n",
    "model=load_model('model_cnn.h5')\n",
    "p_test = model.predict(test, verbose=1)\n",
    "preds = []\n",
    "for i in range(len(p_test)):\n",
    "    pos = np.argmax(p_test[i])\n",
    "    preds.append(list(label_map.keys())[list(label_map.values()).index(pos)])\n",
    "    \n",
    "df_test.drop('labels')\n",
    "df_test['labels']=preds\n",
    "df_test.to_csv('submission.csv', index=False)"
   ]
  }
 ],
 "metadata": {
  "kernelspec": {
   "display_name": "Python 3",
   "language": "python",
   "name": "python3"
  },
  "language_info": {
   "codemirror_mode": {
    "name": "ipython",
    "version": 3
   },
   "file_extension": ".py",
   "mimetype": "text/x-python",
   "name": "python",
   "nbconvert_exporter": "python",
   "pygments_lexer": "ipython3",
   "version": "3.6.5"
  }
 },
 "nbformat": 4,
 "nbformat_minor": 2
}
