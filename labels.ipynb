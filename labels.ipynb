{
 "cells": [
  {
   "cell_type": "code",
   "execution_count": 2,
   "metadata": {},
   "outputs": [],
   "source": [
    "from keras.models import load_model\n",
    "import numpy as np\n",
    "import pandas as pd"
   ]
  },
  {
   "cell_type": "code",
   "execution_count": null,
   "metadata": {},
   "outputs": [],
   "source": [
    "test=np.load(\"test.npy\")\n",
    "label=np.array(['defect1','defect2','defect3','defect4','defect5','defect6','defect11','defect7','defect7',\n",
    "                'defect8','defect9','defect10','norm'])\n",
    "model=load_model('model_cnn.h5')\n",
    "types=label([model.predict_classes(test)])\n",
    "submission=pd.read_csv(\"guangdong_round1_submit_sample_20180916.csv\")\n",
    "submission.drop('labels')\n",
    "submission['labels']=types\n",
    "submission.to_csv(\"submission.csv\",index=0,header=0)"
   ]
  }
 ],
 "metadata": {
  "kernelspec": {
   "display_name": "Python 3",
   "language": "python",
   "name": "python3"
  },
  "language_info": {
   "codemirror_mode": {
    "name": "ipython",
    "version": 3
   },
   "file_extension": ".py",
   "mimetype": "text/x-python",
   "name": "python",
   "nbconvert_exporter": "python",
   "pygments_lexer": "ipython3",
   "version": "3.6.4"
  }
 },
 "nbformat": 4,
 "nbformat_minor": 2
}
